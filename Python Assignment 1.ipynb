{
 "cells": [
  {
   "cell_type": "markdown",
   "metadata": {},
   "source": [
    "### ASSIGNMENT 1 "
   ]
  },
  {
   "cell_type": "markdown",
   "metadata": {},
   "source": [
    "# TASK 1:    "
   ]
  },
  {
   "cell_type": "markdown",
   "metadata": {},
   "source": [
    "Question 1: Install Jupyter notebook and run the first program and share the screenshot of the output.  \n",
    "            LINK  "
   ]
  },
  {
   "cell_type": "code",
   "execution_count": 1,
   "metadata": {},
   "outputs": [
    {
     "name": "stdout",
     "output_type": "stream",
     "text": [
      "Link\n"
     ]
    }
   ],
   "source": [
    "print('Link')"
   ]
  },
  {
   "cell_type": "markdown",
   "metadata": {},
   "source": [
    "Question 2: \n",
    "    Write a program which will find all such numbers which are divisible by 7 but are not a multiple of 5, \n",
    "    between 2000 and 3200 (both included). The numbers obtained should be printed in a comma-separated sequence on a single line"
   ]
  },
  {
   "cell_type": "markdown",
   "metadata": {},
   "source": [
    "Way 1:"
   ]
  },
  {
   "cell_type": "code",
   "execution_count": 2,
   "metadata": {},
   "outputs": [
    {
     "name": "stdout",
     "output_type": "stream",
     "text": [
      "[2002, 2009, 2016, 2023, 2037, 2044, 2051, 2058, 2072, 2079, 2086, 2093, 2107, 2114, 2121, 2128, 2142, 2149, 2156, 2163, 2177, 2184, 2191, 2198, 2212, 2219, 2226, 2233, 2247, 2254, 2261, 2268, 2282, 2289, 2296, 2303, 2317, 2324, 2331, 2338, 2352, 2359, 2366, 2373, 2387, 2394, 2401, 2408, 2422, 2429, 2436, 2443, 2457, 2464, 2471, 2478, 2492, 2499, 2506, 2513, 2527, 2534, 2541, 2548, 2562, 2569, 2576, 2583, 2597, 2604, 2611, 2618, 2632, 2639, 2646, 2653, 2667, 2674, 2681, 2688, 2702, 2709, 2716, 2723, 2737, 2744, 2751, 2758, 2772, 2779, 2786, 2793, 2807, 2814, 2821, 2828, 2842, 2849, 2856, 2863, 2877, 2884, 2891, 2898, 2912, 2919, 2926, 2933, 2947, 2954, 2961, 2968, 2982, 2989, 2996, 3003, 3017, 3024, 3031, 3038, 3052, 3059, 3066, 3073, 3087, 3094, 3101, 3108, 3122, 3129, 3136, 3143, 3157, 3164, 3171, 3178, 3192, 3199]\n"
     ]
    }
   ],
   "source": [
    "i = 2000\n",
    "output1 = []\n",
    "while ((i>=2000) and(i<=3200)) :\n",
    "    if(i%7 == 0):\n",
    "        if(i%5 != 0):\n",
    "            output1.append(i)\n",
    "    \n",
    "    i+=1\n",
    "\n",
    "            \n",
    "\n",
    "\n",
    "print(output1)\n",
    "\n",
    "\n"
   ]
  },
  {
   "cell_type": "markdown",
   "metadata": {},
   "source": [
    "Way 2:"
   ]
  },
  {
   "cell_type": "code",
   "execution_count": 3,
   "metadata": {},
   "outputs": [],
   "source": [
    "a = 2000\n",
    "\n",
    "sevenmultiples = []\n",
    "OP = []\n",
    "\n",
    "for x in range(2000,3201):\n",
    "    if(x%7 == 0):\n",
    "        sevenmultiples.append(x)\n"
   ]
  },
  {
   "cell_type": "code",
   "execution_count": 4,
   "metadata": {},
   "outputs": [
    {
     "name": "stdout",
     "output_type": "stream",
     "text": [
      "172\n"
     ]
    }
   ],
   "source": [
    "print(len(sevenmultiples))"
   ]
  },
  {
   "cell_type": "code",
   "execution_count": 5,
   "metadata": {},
   "outputs": [],
   "source": [
    "for y in sevenmultiples :\n",
    "    if (y%5 == 0):\n",
    "        sevenmultiples.remove(y)"
   ]
  },
  {
   "cell_type": "code",
   "execution_count": 6,
   "metadata": {},
   "outputs": [
    {
     "name": "stdout",
     "output_type": "stream",
     "text": [
      "138\n",
      "[2002, 2009, 2016, 2023, 2037, 2044, 2051, 2058, 2072, 2079, 2086, 2093, 2107, 2114, 2121, 2128, 2142, 2149, 2156, 2163, 2177, 2184, 2191, 2198, 2212, 2219, 2226, 2233, 2247, 2254, 2261, 2268, 2282, 2289, 2296, 2303, 2317, 2324, 2331, 2338, 2352, 2359, 2366, 2373, 2387, 2394, 2401, 2408, 2422, 2429, 2436, 2443, 2457, 2464, 2471, 2478, 2492, 2499, 2506, 2513, 2527, 2534, 2541, 2548, 2562, 2569, 2576, 2583, 2597, 2604, 2611, 2618, 2632, 2639, 2646, 2653, 2667, 2674, 2681, 2688, 2702, 2709, 2716, 2723, 2737, 2744, 2751, 2758, 2772, 2779, 2786, 2793, 2807, 2814, 2821, 2828, 2842, 2849, 2856, 2863, 2877, 2884, 2891, 2898, 2912, 2919, 2926, 2933, 2947, 2954, 2961, 2968, 2982, 2989, 2996, 3003, 3017, 3024, 3031, 3038, 3052, 3059, 3066, 3073, 3087, 3094, 3101, 3108, 3122, 3129, 3136, 3143, 3157, 3164, 3171, 3178, 3192, 3199]\n"
     ]
    }
   ],
   "source": [
    "OP = sevenmultiples\n",
    "\n",
    "print(len(OP))\n",
    "print(OP)"
   ]
  },
  {
   "cell_type": "markdown",
   "metadata": {},
   "source": [
    "Question 3:\n",
    " \n",
    "Write a Python program to accept the user's first and last name and then getting them printed in the the reverse order with a space between first name and last name. "
   ]
  },
  {
   "cell_type": "code",
   "execution_count": 7,
   "metadata": {},
   "outputs": [
    {
     "name": "stdout",
     "output_type": "stream",
     "text": [
      "Enter your first name : first\n",
      "Enter your last name : last\n",
      "first last\n",
      "tsrif tsal\n"
     ]
    }
   ],
   "source": [
    "firstname = input(\"Enter your first name : \")\n",
    "firstname_reverse = firstname[::-1]\n",
    "lastname = input(\"Enter your last name : \")\n",
    "lastname_reverse = lastname[::-1]\n",
    "FullName = firstname+' '+lastname\n",
    "namesreversed = firstname_reverse+' '+lastname_reverse\n",
    "\n",
    "print(FullName)\n",
    "print(namesreversed)"
   ]
  },
  {
   "cell_type": "markdown",
   "metadata": {},
   "source": [
    "Question 4.  \n",
    " \n",
    "Write a Python program to find the volume of a sphere with diameter 12 cm.  \n",
    " \n",
    "Formula: V=4/3 * π * r 3"
   ]
  },
  {
   "cell_type": "code",
   "execution_count": 8,
   "metadata": {},
   "outputs": [
    {
     "name": "stdout",
     "output_type": "stream",
     "text": [
      "Please Enter the Diameter of the sphere : 12\n",
      "Volume of the sphere with diameter - 12 is : 904.7779199999999\n"
     ]
    }
   ],
   "source": [
    "diameter = input(\"Please Enter the Diameter of the sphere : \")\n",
    "radius = int(diameter)/2\n",
    "pi = 3.14159\n",
    "volume_of_Sphere = (4/3)*pi*(radius**3)\n",
    "print(\"Volume of the sphere with diameter - \"+diameter+\" is : \"+str(volume_of_Sphere))"
   ]
  },
  {
   "cell_type": "markdown",
   "metadata": {},
   "source": [
    "# TASK 2:"
   ]
  },
  {
   "cell_type": "markdown",
   "metadata": {},
   "source": [
    "Question 1: \n",
    "    Write a program which accepts a sequence of comma-separated numbers from console and generate a list. "
   ]
  },
  {
   "cell_type": "code",
   "execution_count": 9,
   "metadata": {},
   "outputs": [
    {
     "name": "stdout",
     "output_type": "stream",
     "text": [
      "Enter the number : 4\n",
      "Enter the number : 6\n",
      "Enter the number : 8\n",
      "Enter the number : 12\n",
      "Enter the number : 16\n",
      "['4', '6', '8', '12', '16']\n"
     ]
    }
   ],
   "source": [
    "list_of_numbers = []\n",
    "inde = 0\n",
    "\n",
    "while (inde<5) :\n",
    "    temp = input(\"Enter the number : \")\n",
    "    list_of_numbers.append(temp)\n",
    "    inde+=1\n",
    "\n",
    "print(list_of_numbers)"
   ]
  },
  {
   "cell_type": "markdown",
   "metadata": {},
   "source": [
    "Question 2:\n",
    "\n",
    " \n",
    "Create the below pattern using nested for loop in Python. \n",
    " \n",
    " \n",
    "*\n",
    "**\n",
    "***\n",
    "****\n",
    "*****\n",
    "****\n",
    "***\n",
    "**\n",
    "*\n"
   ]
  },
  {
   "cell_type": "code",
   "execution_count": 10,
   "metadata": {},
   "outputs": [
    {
     "name": "stdout",
     "output_type": "stream",
     "text": [
      "* \n",
      "* * \n",
      "* * * \n",
      "* * * * \n",
      "* * * * * \n",
      "* * * * * * \n",
      "* * * * * \n",
      "* * * * \n",
      "* * * \n",
      "* * \n",
      "* \n"
     ]
    }
   ],
   "source": [
    "star1 = 0\n",
    "star2 = 0\n",
    "\n",
    "while star1<5:\n",
    "    while star2<star1+1:\n",
    "        print('*',end = ' ')\n",
    "        star2+=1\n",
    "    star2=0\n",
    "    star1+=1\n",
    "    print()\n",
    "\n",
    "while star1>=0:\n",
    "    while star2<star1+1:\n",
    "        print('*',end = ' ')\n",
    "        star2+=1\n",
    "    star2=0\n",
    "    star1-=1\n",
    "    print()"
   ]
  },
  {
   "cell_type": "markdown",
   "metadata": {},
   "source": [
    "Question 3.  \n",
    " \n",
    "Write a Python program to reverse a word after accepting the input from the user. \n",
    " \n",
    "Sample Output: \n",
    " \n",
    "Input word: AcadGild \n",
    " \n",
    "Output: dilGdacA "
   ]
  },
  {
   "cell_type": "code",
   "execution_count": 11,
   "metadata": {},
   "outputs": [
    {
     "name": "stdout",
     "output_type": "stream",
     "text": [
      "Please enter your Input text: AcadGild\n",
      "dliGdacA\n"
     ]
    }
   ],
   "source": [
    "input_word = input(\"Please enter your Input text: \")\n",
    "print(input_word[::-1])"
   ]
  },
  {
   "cell_type": "markdown",
   "metadata": {},
   "source": [
    "Question 4:\n",
    " Write a Python Program to print the given string in the format specified in the ​sample output. \n",
    " WE, THE PEOPLE OF INDIA, having solemnly resolved to constitute India into a SOVEREIGN, SOCIALIST, SECULAR, DEMOCRATIC REPUBLIC and to secure to all its citizens \n",
    " \n",
    "Sample Output: \n",
    " \n",
    "WE, THE PEOPLE OF INDIA,   having solemnly resolved to constitute India into a SOVEREIGN, !  SOCIALIST, SECULAR, DEMOCRATIC REPUBLIC    and to secure to all its citizens "
   ]
  },
  {
   "cell_type": "markdown",
   "metadata": {},
   "source": [
    "Way 1:"
   ]
  },
  {
   "cell_type": "code",
   "execution_count": 13,
   "metadata": {},
   "outputs": [
    {
     "name": "stdout",
     "output_type": "stream",
     "text": [
      "WE, THE PEOPLE OF INDIA,\n",
      "         having solemnly resolved to constitute India into a SOVEREIGN, !\n",
      "                SOCIALIST, SECULAR, DEMOCRATIC REPUBLIC\n",
      "                 and to secure to all its citizens\n"
     ]
    }
   ],
   "source": [
    "input_string = \"WE, THE PEOPLE OF INDIA, having solemnly resolved to constitute India into a SOVEREIGN, SOCIALIST, SECULAR, DEMOCRATIC REPUBLIC and to secure to all its citizens\"\n",
    "\n",
    "\n",
    "print(\"WE, THE PEOPLE OF INDIA,\")\n",
    "print(\"         having solemnly resolved to constitute India into a SOVEREIGN, !\")\n",
    "print(\"                SOCIALIST, SECULAR, DEMOCRATIC REPUBLIC\")\n",
    "print(\"                 and to secure to all its citizens\")"
   ]
  },
  {
   "cell_type": "markdown",
   "metadata": {},
   "source": [
    "way2:"
   ]
  },
  {
   "cell_type": "code",
   "execution_count": 16,
   "metadata": {},
   "outputs": [
    {
     "name": "stdout",
     "output_type": "stream",
     "text": [
      "WE, THE PEOPLE OF INDIA, \n",
      " \t having solemnly resolved to constitute India into a SOVEREIGN, ! \n",
      " \t \tSOCIALIST, SECULAR, DEMOCRATIC REPUBLIC \n",
      " \t \t and to secure to all its citizens \n"
     ]
    }
   ],
   "source": [
    "B = '{part1} \\n \\t {part2} ! \\n \\t \\t{part3} \\n \\t \\t {part4} '.format(part1 = 'WE, THE PEOPLE OF INDIA,',part2 = 'having solemnly resolved to constitute India into a SOVEREIGN,',part3 = 'SOCIALIST, SECULAR, DEMOCRATIC REPUBLIC',part4 = 'and to secure to all its citizens')\n",
    "print(B)"
   ]
  },
  {
   "cell_type": "code",
   "execution_count": null,
   "metadata": {},
   "outputs": [],
   "source": []
  }
 ],
 "metadata": {
  "kernelspec": {
   "display_name": "Python 3",
   "language": "python",
   "name": "python3"
  },
  "language_info": {
   "codemirror_mode": {
    "name": "ipython",
    "version": 3
   },
   "file_extension": ".py",
   "mimetype": "text/x-python",
   "name": "python",
   "nbconvert_exporter": "python",
   "pygments_lexer": "ipython3",
   "version": "3.7.4"
  }
 },
 "nbformat": 4,
 "nbformat_minor": 2
}
